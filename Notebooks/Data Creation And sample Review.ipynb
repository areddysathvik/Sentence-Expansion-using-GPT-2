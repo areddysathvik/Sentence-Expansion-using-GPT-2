{
 "cells": [
  {
   "cell_type": "code",
   "execution_count": 240,
   "id": "fe9a871f",
   "metadata": {},
   "outputs": [],
   "source": [
    "import pdfplumber\n",
    "\n",
    "pdf_path1 = 'To Kill A Mockingbird - Full Text PDF.pdf'\n",
    "pdf_path2 = \"Frank Herbert's - Dune - Part 1 [EnglishOnlineClub.com].pdf\"\n",
    "\n",
    "def extract_text_from_pdf(path):\n",
    "    with pdfplumber.open(path) as pdf:\n",
    "        text = \"\"\n",
    "        for page in pdf.pages:\n",
    "            text += page.extract_text()\n",
    "        return text"
   ]
  },
  {
   "cell_type": "code",
   "execution_count": 241,
   "id": "ab427e54",
   "metadata": {},
   "outputs": [],
   "source": [
    "text1 = extract_text_from_pdf(pdf_path1)\n",
    "text2 = extract_text_from_pdf(pdf_path2)"
   ]
  },
  {
   "cell_type": "code",
   "execution_count": 242,
   "id": "40f8e446",
   "metadata": {},
   "outputs": [],
   "source": [
    "import re\n",
    "\n",
    "def clean_text(input_text):\n",
    "    input_text = input_text.lower()\n",
    "    # Remove newlines\n",
    "    text_no_newlines = re.sub(r'\\n', ' ', input_text)\n",
    "\n",
    "    # Replace multiple spaces with a single space\n",
    "    text_no_extra_spaces = re.sub(r'\\s+', ' ', text_no_newlines)\n",
    "\n",
    "    # Remove characters other than numbers and alphabets\n",
    "    cleaned_text = re.sub(r'[^a-zA-Z0-9 ]', '', text_no_extra_spaces)\n",
    "\n",
    "    return cleaned_text"
   ]
  },
  {
   "cell_type": "code",
   "execution_count": 265,
   "id": "c73fb480",
   "metadata": {},
   "outputs": [],
   "source": [
    "from nltk.tokenize import sent_tokenize, word_tokenize\n",
    "from tqdm import tqdm  \n",
    "\n",
    "def prepare_dataset(input_text, max_words_per_row=100):\n",
    "    input_text = input_text.split()\n",
    "    ret_data = []\n",
    "    for i in range(0,len(input_text),max_words_per_row):\n",
    "        text = ' '.join(input_text[i:i+max_words_per_row])\n",
    "        ret_data.append(text + ',')\n",
    "    \n",
    "    return ret_data"
   ]
  },
  {
   "cell_type": "code",
   "execution_count": 266,
   "id": "5bc2068f",
   "metadata": {},
   "outputs": [],
   "source": [
    "clean_text1 = clean_text(text1)\n",
    "clean_text2 = clean_text(text2)\n",
    "\n",
    "\n",
    "dataset1 = prepare_dataset(clean_text1)\n",
    "dataset2 = prepare_dataset(clean_text2)"
   ]
  },
  {
   "cell_type": "code",
   "execution_count": 275,
   "id": "4904d1dc",
   "metadata": {},
   "outputs": [
    {
     "data": {
      "text/plain": [
       "(997, 1999)"
      ]
     },
     "execution_count": 275,
     "metadata": {},
     "output_type": "execute_result"
    }
   ],
   "source": [
    "len(dataset1),len(dataset2)"
   ]
  },
  {
   "cell_type": "code",
   "execution_count": 276,
   "id": "609fe22f",
   "metadata": {},
   "outputs": [
    {
     "data": {
      "text/plain": [
       "'1960 to kill a mockingbird by harper lee copyright c 1960 by harper lee copyright c renewed 1988 by harper lee published by arrangement with mcintosh and otis inc contentsdedication l part one l chapter 1 m chapter 2 m chapter 3 m chapter 4 m chapter 5 m chapter 6 m chapter 7 m chapter 8 m chapter 9 m chapter 10 m chapter 11 m part two l chapter 12 m chapter 13 m chapter 14 m chapter 15 m chapter 16 m chapter 17 m chapter 18 m chapter 19 m chapter 20 m chapter 21 m,'"
      ]
     },
     "execution_count": 276,
     "metadata": {},
     "output_type": "execute_result"
    }
   ],
   "source": [
    "dataset1[0]"
   ]
  },
  {
   "cell_type": "code",
   "execution_count": 277,
   "id": "acb33f54",
   "metadata": {},
   "outputs": [
    {
     "name": "stdout",
     "output_type": "stream",
     "text": [
      "Example 1:\n",
      "Input: 1960 to kill a mockingbird by harper lee copyright c 1960 by harper lee copyright c renewed 1988 by harper lee published by arrangement with mcintosh and otis inc contentsdedication l part one l chapter 1 m chapter 2 m chapter 3 m chapter 4 m chapter 5 m chapter 6 m chapter 7 m chapter 8 m chapter 9 m chapter 10 m chapter 11 m part two l chapter 12 m chapter 13 m chapter 14 m chapter 15 m chapter 16 m chapter 17 m chapter 18 m chapter 19 m chapter 20 m chapter 21 m,\n",
      "\n",
      "Example 2:\n",
      "Input: chapter 22 m chapter 23 m chapter 24 m chapter 25 m chapter 26 m chapter 27 m chapter 28 m chapter 29 m chapter 30 m chapter 31 m scan proof notes lcontents prev next dedication for mr lee and alice in consideration of love affection lawyers i suppose were children once charles lamb part one contents prev next chapter 1 when he was nearly thirteen my brother jem got his arm badly broken at the elbow when it healed and jems fears of never being able to play football were assuaged he was seldom selfconscious about his injury,\n",
      "\n",
      "Example 3:\n",
      "Input: his left arm was somewhat shorter than his right when he stood or walked the back of his hand was at right angles to his body his thumb parallel to his thigh he couldnt have cared less so long as he could pass and punt when enough years had gone by to enable us to look back on them we sometimes discussed the events leading to his accident i maintain that the ewells started it all but jem who was four years my senior said it started long before that he said it began the summer dill came to us,\n",
      "\n",
      "Example 4:\n",
      "Input: when dill first gave us the idea of making boo radley come out i said if he wanted to take a broad view of the thing it really began with andrew jackson if general jackson hadnt run the creeks up the creek simon finch would never have paddled up the alabama and where would we be if he hadntwe were far too old to settle an argument with a fistfight so we consulted atticus our father said we were both right being southerners it was a source of shame to some members of the family that we had no recorded,\n",
      "\n",
      "Example 5:\n",
      "Input: ancestors on either side of the battle of hastings all we had was simon finch a furtrapping apothecary from cornwall whose piety was exceeded only by his stinginess in england simon was irritated by the persecution of those who called themselves methodists at the hands of their more liberal brethren and as simon called himself a methodist he worked his way across the atlantic to philadelphia thence to jamaica thence to mobile and up the saint stephens mindful of john wesleys strictures on the use of many words in buying and selling simon made a pile practicing medicine but in,\n",
      "\n"
     ]
    }
   ],
   "source": [
    "for i, inp in enumerate(dataset1[:5]):\n",
    "    print(f\"Example {i+1}:\")\n",
    "    print(\"Input:\", inp)\n",
    "    print()"
   ]
  },
  {
   "cell_type": "code",
   "execution_count": 278,
   "id": "224f40fb",
   "metadata": {},
   "outputs": [
    {
     "name": "stdout",
     "output_type": "stream",
     "text": [
      "Example 1:\n",
      "Input: ccccoooonnnnvvvveeeerrrrtttteeeedddd ttttoooo ppppddddffff bbbbyyyy mmmmkkkkmmmmdune frank herbert copyright 1965 book 1 dune a beginning is the time for taking the most delicate care that the balances are correct this every sister of the bene gesserit knows to begin your study of the life of muaddib then take care that you first place him in his time born in the 57th year of the padishah emperor shaddam iv and take the most special care that you locate muaddib in his place the planet arrakis do not be deceived by the fact that he was born on caladan and lived his first,\n",
      "\n",
      "Example 2:\n",
      "Input: fifteen years there arrakis the planet known as dune is forever his place from manual of muaddib by the princess irulan in the week before their departure to arrakis when all the final scurrying about had reached a nearly unbearable frenzy an old crone came to visit the mother of the boy paul it was a warm night at castle caladan and the ancient pile of stone that had served the atreides family as home for twentysix generations bore that cooledsweat feeling it acquired before a change in the weather the old woman was let in by the side door,\n",
      "\n",
      "Example 3:\n",
      "Input: down the vaulted passage by pauls room and she was allowed a moment to peer in at him where he lay in his bed by the halflight of a suspensor lamp dimmed and hanging near the floor the awakened boy could see a bulky female shape at his door standing one step ahead of his mother the old woman was a witch shadow hair like matted spiderwebs hooded round darkness of features eyes like glittering jewels is he not small for his age jessica the old woman asked her voice wheezed and twanged like an untuned baliset pauls mother answered,\n",
      "\n",
      "Example 4:\n",
      "Input: in her soft contralto the atreides are known to start late getting their growth your reverence so ive heard so ive heard wheezed the old woman yet hes already fifteen yes your reverence hes awake and listening to us said the old woman sly little rascal she chuckled but royalty has need of slyness and if hes really the kwisatz haderach well within the shadows of his bed paul held his eyes open to mere slits two birdbright ovals the eyes of the old woman seemed to expand and glow as they stared into hissleep well you sly little rascal,\n",
      "\n",
      "Example 5:\n",
      "Input: said the old woman tomorrow youll need all your faculties to meet my gom jabbar and she was gone pushing his mother out closing the door with a solid thump paul lay awake wondering whats a gom jabbar in all the upset during this time of change the old woman was the strangest thing he had seen your reverence and the way she called his mother jessica like a common serving wench instead of what she was a bene gesserit lady a dukes concubine and mother of the ducal heir is a gom jabbar something of arrakis i must know,\n",
      "\n"
     ]
    }
   ],
   "source": [
    "for i, input_segment, in enumerate(dataset2[:5]):\n",
    "    print(f\"Example {i+1}:\")\n",
    "    print(\"Input:\", input_segment)\n",
    "    print()"
   ]
  },
  {
   "cell_type": "code",
   "execution_count": 279,
   "id": "41e2e4c8",
   "metadata": {},
   "outputs": [],
   "source": [
    "# combine two Datasets\n",
    "dataset = dataset1 + dataset2"
   ]
  },
  {
   "cell_type": "code",
   "execution_count": 288,
   "id": "718043bc",
   "metadata": {},
   "outputs": [],
   "source": [
    "# for training\n",
    "with open('train.txt','w') as f:\n",
    "    for i in dataset[:len(dataset)-100]:\n",
    "        f.write(i)\n",
    "\n",
    "with open('test.txt','w') as f:\n",
    "    for i in dataset[len(dataset)-100:]:\n",
    "        f.write(i)"
   ]
  },
  {
   "cell_type": "code",
   "execution_count": 289,
   "id": "53cac8f9",
   "metadata": {},
   "outputs": [],
   "source": [
    "from transformers import GPT2LMHeadModel, GPT2Tokenizer\n",
    "\n",
    "model_dir = r\"C:\\Users\\aredd\\Desktop\\EndToEnd\\text-completion\\Trained-Model\\output_directory\"\n",
    "\n",
    "\n",
    "model = GPT2LMHeadModel.from_pretrained(model_dir, ignore_mismatched_sizes=True)\n",
    "tokenizer = GPT2Tokenizer.from_pretrained(model_dir)"
   ]
  },
  {
   "cell_type": "code",
   "execution_count": 295,
   "id": "8e122264",
   "metadata": {},
   "outputs": [
    {
     "name": "stderr",
     "output_type": "stream",
     "text": [
      "The attention mask and the pad token id were not set. As a consequence, you may observe unexpected behavior. Please pass your input's `attention_mask` to obtain reliable results.\n",
      "Setting `pad_token_id` to `eos_token_id`:50256 for open-end generation.\n"
     ]
    },
    {
     "name": "stdout",
     "output_type": "stream",
     "text": [
      "\n",
      "Once upon a time there lived a \n",
      "\n",
      "beautiful duke who loved his dukes lady dearly he was a man of few words and of few emotions the duke was a man of few tastes the baron said he was a man of few tastes the baron glanced at his right hand the one that had been the trigger for his first taste of death i must have been a pretty girl once the baron thought i must have been a pretty girl once more he thought i must have been a pretty girl and he remembered the conversation with feydrautha the night before the games the duke had said to feydrautha youre a pretty boy feydrautha had said he was but youre a pretty\n"
     ]
    }
   ],
   "source": [
    "prompt = \"\"\"\n",
    "Once upon a time there lived a \n",
    "\"\"\"\n",
    "\n",
    "input_ids = tokenizer.encode(prompt, return_tensors=\"pt\")\n",
    "output = model.generate(input_ids, max_length=150, num_return_sequences=1)\n",
    "generated_text = tokenizer.decode(output[0], skip_special_tokens=True)\n",
    "\n",
    "print(generated_text)"
   ]
  }
 ],
 "metadata": {
  "kernelspec": {
   "display_name": "Python 3 (ipykernel)",
   "language": "python",
   "name": "python3"
  },
  "language_info": {
   "codemirror_mode": {
    "name": "ipython",
    "version": 3
   },
   "file_extension": ".py",
   "mimetype": "text/x-python",
   "name": "python",
   "nbconvert_exporter": "python",
   "pygments_lexer": "ipython3",
   "version": "3.9.15"
  }
 },
 "nbformat": 4,
 "nbformat_minor": 5
}
